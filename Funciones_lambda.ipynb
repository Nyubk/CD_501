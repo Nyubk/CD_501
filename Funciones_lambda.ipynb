{
  "nbformat": 4,
  "nbformat_minor": 0,
  "metadata": {
    "colab": {
      "provenance": [],
      "authorship_tag": "ABX9TyPLJQJfX14nFVm4YRjFgk5i",
      "include_colab_link": true
    },
    "kernelspec": {
      "name": "python3",
      "display_name": "Python 3"
    },
    "language_info": {
      "name": "python"
    }
  },
  "cells": [
    {
      "cell_type": "markdown",
      "metadata": {
        "id": "view-in-github",
        "colab_type": "text"
      },
      "source": [
        "<a href=\"https://colab.research.google.com/github/Nyubk/CD_501/blob/main/Funciones_lambda.ipynb\" target=\"_parent\"><img src=\"https://colab.research.google.com/assets/colab-badge.svg\" alt=\"Open In Colab\"/></a>"
      ]
    },
    {
      "cell_type": "markdown",
      "source": [
        "#Funciones Lambda    **λ**"
      ],
      "metadata": {
        "id": "Yg1l1jdDdn3g"
      }
    },
    {
      "cell_type": "markdown",
      "source": [
        "#####Las funciones lambda son una otra forma de generar objetos de funciones a parte de la instrucción ***def*** y al igual que esta, ***lambda*** crea una función que puede ser llamada luego, pero retorna la función en vez de asignarle a un nombre, por eso son *llamadas de funciones anónimas*.\n",
        "\n",
        "##### Las funciones anónimas suelen ser argumentos que se pasan a funciones de orden superior o se utilizan para construir el resultado de una función de orden superior que necesita devolver una función.\n",
        "\n",
        "\n",
        "#####El patrón que siguen estas funciones es la palabra reservada ***lambda***, seguida por uno o más argumentos, seguida por una expresión después de los dos puntos.\n",
        "\n",
        "\n",
        "\n",
        "***Ejemplo***\n",
        "```\n",
        "# lambda < argumento_1 >, < argumento_2 >, …, < argumento_n >: < expresión >\n",
        "```\n",
        "##### Una de las utilidades primordiales de estas funciones es su uso en el ***análisis de datos***, porque en diversos\tcasos\talgunas funciones de transformación\tde datos aceptan funciones\tcomo argumentos.\n",
        "\n"
      ],
      "metadata": {
        "id": "Mnez34DmfNoY"
      }
    },
    {
      "cell_type": "markdown",
      "source": [
        "#####Dicho de otro modo ***Lambda*** siempre retorna una nueva función que opcionalmente puede recibir un nombre.\n",
        "#####En el siguiente ejemplo *cuadrado* es atribuido al objeto de la función que la expresión ***lambda*** crea; la diferencia con las funciones ***def*** es que la asignación es automática."
      ],
      "metadata": {
        "id": "nYmOtP3oghA-"
      }
    },
    {
      "cell_type": "code",
      "source": [
        "cuadrado = lambda x: (x ** 2)"
      ],
      "metadata": {
        "id": "rOaWMgVofqnx"
      },
      "execution_count": 8,
      "outputs": []
    },
    {
      "cell_type": "markdown",
      "source": [
        "######**Salida:**\n",
        "\n",
        "\n",
        "```\n",
        "# cuadrado(3)\n",
        "```\n",
        "\n"
      ],
      "metadata": {
        "id": "cBBTEgRlk_t4"
      }
    },
    {
      "cell_type": "code",
      "source": [
        "cuadrado(3)"
      ],
      "metadata": {
        "colab": {
          "base_uri": "https://localhost:8080/"
        },
        "id": "RO32z5S2fqjI",
        "outputId": "92c57c89-e195-47f5-ae81-ceaab67df159"
      },
      "execution_count": 21,
      "outputs": [
        {
          "output_type": "execute_result",
          "data": {
            "text/plain": [
              "9"
            ]
          },
          "metadata": {},
          "execution_count": 21
        }
      ]
    },
    {
      "cell_type": "markdown",
      "source": [
        "#####Una función lambda puede recibir cualquier número de argumentos, pero está limitada a apenas una expresión."
      ],
      "metadata": {
        "id": "p8QfrDZ1lNLw"
      }
    },
    {
      "cell_type": "code",
      "execution_count": 19,
      "metadata": {
        "id": "m_63nFsaddch"
      },
      "outputs": [],
      "source": [
        "multiplica = lambda x, y: x * y"
      ]
    },
    {
      "cell_type": "code",
      "source": [
        "multiplica(2, 3)"
      ],
      "metadata": {
        "colab": {
          "base_uri": "https://localhost:8080/"
        },
        "id": "7OR1bq6nlShV",
        "outputId": "1a05bf5a-12cb-4661-ea14-3868784224fb"
      },
      "execution_count": 20,
      "outputs": [
        {
          "output_type": "execute_result",
          "data": {
            "text/plain": [
              "6"
            ]
          },
          "metadata": {},
          "execution_count": 20
        }
      ]
    },
    {
      "cell_type": "code",
      "source": [
        "multiplica = lambda x, y: x * y, lambda x,y: z/m"
      ],
      "metadata": {
        "id": "V798F3rwn9Fo"
      },
      "execution_count": 24,
      "outputs": []
    },
    {
      "cell_type": "code",
      "source": [
        "multiplica(2,3)"
      ],
      "metadata": {
        "colab": {
          "base_uri": "https://localhost:8080/",
          "height": 141
        },
        "id": "JDi_eQlHoMG8",
        "outputId": "c07fc207-1495-4605-df64-dd3907d4e3b6"
      },
      "execution_count": 25,
      "outputs": [
        {
          "output_type": "error",
          "ename": "TypeError",
          "evalue": "'tuple' object is not callable",
          "traceback": [
            "\u001b[0;31m---------------------------------------------------------------------------\u001b[0m",
            "\u001b[0;31mTypeError\u001b[0m                                 Traceback (most recent call last)",
            "\u001b[0;32m<ipython-input-25-75db92bd5484>\u001b[0m in \u001b[0;36m<cell line: 1>\u001b[0;34m()\u001b[0m\n\u001b[0;32m----> 1\u001b[0;31m \u001b[0mmultiplica\u001b[0m\u001b[0;34m(\u001b[0m\u001b[0;36m2\u001b[0m\u001b[0;34m,\u001b[0m\u001b[0;36m3\u001b[0m\u001b[0;34m)\u001b[0m\u001b[0;34m\u001b[0m\u001b[0;34m\u001b[0m\u001b[0m\n\u001b[0m",
            "\u001b[0;31mTypeError\u001b[0m: 'tuple' object is not callable"
          ]
        }
      ]
    },
    {
      "cell_type": "markdown",
      "source": [
        "#####Lo anterior indica que la *multiplica* es una tupla, pero se esta tratando de llamarlo como función lo cual no es posible a menos que accedamos a la función dentro de la tupla considerando que el primer elemento del objeto es la función, se puede acceder usando el index 0\n",
        "\n",
        "\n",
        "\n",
        "```\n",
        "# multiplica[0](2, 3)\n",
        "```\n",
        "\n",
        "\n",
        "\n",
        "\n",
        "\n"
      ],
      "metadata": {
        "id": "lrvxVyaHoxs4"
      }
    },
    {
      "cell_type": "markdown",
      "source": [
        "#####Referencias\n",
        "#####*s.n. (2022) Python para Data Science. pág 95*\n",
        "#####*s.n. (2014)  Higher order functions. URL: learnyouahaskell.com*"
      ],
      "metadata": {
        "id": "vnUtFNm5zgoD"
      }
    }
  ]
}