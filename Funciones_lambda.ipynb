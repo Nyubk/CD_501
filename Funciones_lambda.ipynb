{
  "nbformat": 4,
  "nbformat_minor": 0,
  "metadata": {
    "colab": {
      "provenance": [],
      "authorship_tag": "ABX9TyMNPMKL+Khic1/HtA8MvHWE",
      "include_colab_link": true
    },
    "kernelspec": {
      "name": "python3",
      "display_name": "Python 3"
    },
    "language_info": {
      "name": "python"
    }
  },
  "cells": [
    {
      "cell_type": "markdown",
      "metadata": {
        "id": "view-in-github",
        "colab_type": "text"
      },
      "source": [
        "<a href=\"https://colab.research.google.com/github/Nyubk/CD_501/blob/main/Funciones_lambda.ipynb\" target=\"_parent\"><img src=\"https://colab.research.google.com/assets/colab-badge.svg\" alt=\"Open In Colab\"/></a>"
      ]
    },
    {
      "cell_type": "markdown",
      "source": [
        "#Funciones Lambda    **λ**"
      ],
      "metadata": {
        "id": "Yg1l1jdDdn3g"
      }
    },
    {
      "cell_type": "markdown",
      "source": [
        "#####Las ***funciones lambda*** son otra forma de generar objetos de funciones a parte de la instrucción ***def***, siendo la diferencia principal que ***lambda*** puede recibir cualquier número de argumentos, pero está limitada a apenas una expresión, adicionalmente la versátilidad de las funciones lambda aún es útil en el ***análisis de datos*** ya que en diversos\tcasos\talgunas funciones de transformación\tde datos aceptan funciones como argumentos hasta gestionar las bases de datos a nuetras necesidades.\n",
        "\n",
        "#####El patrón que siguen estas funciones es la palabra reservada ***lambda***, seguida por uno o más argumentos, seguida por una expresión después de los dos puntos.\n",
        "\n",
        "***Ejemplo***\n",
        "```\n",
        "# nombre_de _ariable = lambda < argumento_1 >, < argumento_2 >, …, < argumento_n >: < expresión >\n",
        "\n",
        "# cuadrado = lambda x: (x ** 2) | cuadrado(3) = 9\n",
        "\n",
        "# multiplica = lambda x, y: x * y | multiplica = (2, 3) = 6\n",
        "```\n"
      ],
      "metadata": {
        "id": "Mnez34DmfNoY"
      }
    },
    {
      "cell_type": "markdown",
      "source": [
        "##### Si bien las funciones lambada solo pueden almacenar una sola expresión podemos almacenar varias funciones lambda en una variable de tipo array llamar cada expresión para evaluar los argumentos como si fueran metodos seleccionando su lugar dentro del array."
      ],
      "metadata": {
        "id": "p8QfrDZ1lNLw"
      }
    },
    {
      "cell_type": "code",
      "source": [
        "lambdaAritmetica = lambda x, y: (x*y), lambda x, y: (x/y)"
      ],
      "metadata": {
        "id": "rr3h9ylheN8o"
      },
      "execution_count": null,
      "outputs": []
    },
    {
      "cell_type": "code",
      "source": [
        "lambdaAritmetica[0](2, 3)"
      ],
      "metadata": {
        "colab": {
          "base_uri": "https://localhost:8080/"
        },
        "id": "-jq_mVEaAC7n",
        "outputId": "53d981d8-c96d-4631-ab83-01bd6d1612df"
      },
      "execution_count": null,
      "outputs": [
        {
          "output_type": "execute_result",
          "data": {
            "text/plain": [
              "6"
            ]
          },
          "metadata": {},
          "execution_count": 10
        }
      ]
    },
    {
      "cell_type": "code",
      "source": [
        "lambdaAritmetica[1](2, 3)"
      ],
      "metadata": {
        "colab": {
          "base_uri": "https://localhost:8080/"
        },
        "id": "9mskXA8mAPxp",
        "outputId": "3568517e-b700-4618-c0af-9e88b2e9bbda"
      },
      "execution_count": null,
      "outputs": [
        {
          "output_type": "execute_result",
          "data": {
            "text/plain": [
              "0.6666666666666666"
            ]
          },
          "metadata": {},
          "execution_count": 11
        }
      ]
    },
    {
      "cell_type": "markdown",
      "source": [
        "Una función lambda nos es útil en el caso que otras funciones no se adapten a nuestras necesidades. Para ello podemos hacer uso de las funciones clave con lambda.\n",
        "\n",
        "##### ***Ejemplo***\n",
        "\n",
        "Imaginemos que tenemos una lista de imágenes cuyos nombres se presentan de la siguiente forma:\n",
        "\n",
        "*img1, img2, img30, img3, img22, img100*"
      ],
      "metadata": {
        "id": "TvtGqd3Oe0xW"
      }
    },
    {
      "cell_type": "code",
      "source": [
        "images = ['img1', 'img2', 'img30', 'img3', 'img22', 'img100']"
      ],
      "metadata": {
        "id": "H6xd3wwtAy28"
      },
      "execution_count": null,
      "outputs": []
    },
    {
      "cell_type": "code",
      "source": [
        "sorted(images)\n",
        "print(images)"
      ],
      "metadata": {
        "colab": {
          "base_uri": "https://localhost:8080/"
        },
        "id": "-EoDHKb7A2FH",
        "outputId": "3a849437-8341-4a05-83af-51b0f199f69d"
      },
      "execution_count": null,
      "outputs": [
        {
          "output_type": "stream",
          "name": "stdout",
          "text": [
            "['img1', 'img2', 'img30', 'img3', 'img22', 'img100']\n"
          ]
        }
      ]
    },
    {
      "cell_type": "markdown",
      "source": [
        "Esta función sort() tiene el incoveniente que organiza los datos conforme al orden lexicográfico. Esto significa que los dígitos consecutivos se tratan como números únicos, de esta manera, los números ['1', '2', '100'] se colocan en el orden ['1', '100', '2'].\n",
        "\n",
        "Por lo que usaremos una expresión lambda que crea una función clave. Esta permite extraer la parte numérica de un nombre de archivo para que sorted() la utilice como clave:"
      ],
      "metadata": {
        "id": "ShB1BijkgclT"
      }
    },
    {
      "cell_type": "code",
      "source": [
        "sorted_image = sorted(images, key=lambda name: int(name[3:]))\n",
        "print(sorted_image)"
      ],
      "metadata": {
        "colab": {
          "base_uri": "https://localhost:8080/"
        },
        "id": "zuu_GrzhBCd9",
        "outputId": "e531b082-de0f-41e9-f7ab-94a1da6b64e5"
      },
      "execution_count": null,
      "outputs": [
        {
          "output_type": "stream",
          "name": "stdout",
          "text": [
            "['img-1', 'img1', 'img2', 'img3', 'img22', 'img30', 'img100']\n"
          ]
        }
      ]
    },
    {
      "cell_type": "markdown",
      "source": [
        "#####Referencias\n",
        "#####*s.n. (2022) Python para Data Science. pág 95*\n",
        "#####*s.n. (2014)  Higher order functions. URL: learnyouahaskell.com*\n",
        "#####*s.n. (17 de septiembre, 2023). Funciones lambda de Python. IONOS Digital Guide*\n",
        "\n"
      ],
      "metadata": {
        "id": "vnUtFNm5zgoD"
      }
    }
  ]
}